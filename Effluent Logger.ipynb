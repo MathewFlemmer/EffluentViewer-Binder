{
 "cells": [
  {
   "cell_type": "markdown",
   "id": "26946abe",
   "metadata": {},
   "source": [
    "# Effluent Logger App"
   ]
  },
  {
   "cell_type": "code",
   "execution_count": 1,
   "id": "20e9aab6",
   "metadata": {},
   "outputs": [],
   "source": [
    "# we want to display the amount of effluent in each paddock\n",
    "# we need to provide a start and end date\n",
    "# we then need to query each of those dates for their amount of effluent and which paddocks\n",
    "# we then need to sum those values\n",
    "# we then display the numbers\n",
    "\n",
    "# imports\n",
    "%matplotlib widget\n",
    "import sqlite3\n",
    "import pandas as pd\n",
    "import plotly\n",
    "import ipywidgets as widgets\n",
    "import numpy as np\n",
    "import cufflinks as cf\n",
    "import dateutil.relativedelta\n",
    "import matplotlib.pyplot as plt\n",
    "\n",
    "from datetime import datetime,timedelta"
   ]
  },
  {
   "cell_type": "markdown",
   "id": "a8533162",
   "metadata": {},
   "source": [
    "## Database stuff"
   ]
  },
  {
   "cell_type": "code",
   "execution_count": 2,
   "id": "096162b8",
   "metadata": {},
   "outputs": [
    {
     "data": {
      "application/vnd.jupyter.widget-view+json": {
       "model_id": "aed21be8b2cc4e16903746be350e03f1",
       "version_major": 2,
       "version_minor": 0
      },
      "text/plain": [
       "HTML(value='<p style=\"color:green\"><b>Connected to D:\\\\Current Projects\\\\Farm\\\\Effluent Tracker\\\\Effluent Data…"
      ]
     },
     "metadata": {},
     "output_type": "display_data"
    }
   ],
   "source": [
    "### Database class. Allows for simple connecting and disconnecting to a database ###\n",
    "class Database():\n",
    "    def __init__(self, database_path):\n",
    "        self.path = database_path\n",
    "        self.conn = None\n",
    "        self.c = None\n",
    "        self.connect()\n",
    "        \n",
    "    def updatePath(self, path):\n",
    "        self.path = path\n",
    "    \n",
    "    def connect(self):\n",
    "        self.conn = sqlite3.connect(self.path)\n",
    "        self.c = self.conn.cursor()\n",
    "    \n",
    "    def disconnect(self):\n",
    "        self.c.close()\n",
    "        self.conn.close()\n",
    "    \n",
    "    def query(self, query):\n",
    "        return self.c.execute(query)\n",
    "    \n",
    "    def queryTableDF(self, query):\n",
    "        # Query a table in a database and return in a DataFrame format\n",
    "        return pd.read_sql_query(query, self.conn)\n",
    "        \n",
    "    def queryValue(self, query, row=0, column=0):\n",
    "        # Return a specific value from a row/column in a queried dataframe table.\n",
    "        result_df = self.queryTableDF(query)\n",
    "        return result_df.iat[row,column]\n",
    "\n",
    "### Setup the database ###\n",
    "#default_database_location = 'C:\\Predictive Maintenance\\Maintenance.db'\n",
    "default_database_location = 'D:\\Current Projects\\Farm\\Effluent Tracker\\Effluent Database.db'\n",
    "db = Database(default_database_location)\n",
    "\n",
    "### Attempt a query from the database. If there is an error indicate to user that database is disconnected ###\n",
    "\n",
    "connected_html = widgets.HTML('<p style=\"color:green\"><b>Connected to %s</b></p>' % default_database_location)\n",
    "disconnected_html = widgets.HTML('<p style=\"color:red\"><b> Database not connected! Check database name/location: %s</b></p>' % default_database_location)\n",
    "\n",
    "query = 'SELECT * FROM EffluentLogs'\n",
    "try:\n",
    "    result = db.query(query)\n",
    "    connected = True\n",
    "except:\n",
    "    connected = False\n",
    "    \n",
    "if connected:\n",
    "    display(connected_html)\n",
    "else:\n",
    "    display(disconnected_html)"
   ]
  },
  {
   "cell_type": "markdown",
   "id": "ef1a8fd1",
   "metadata": {},
   "source": [
    "# Effluent Graph"
   ]
  },
  {
   "cell_type": "code",
   "execution_count": 3,
   "id": "a2171c41",
   "metadata": {},
   "outputs": [
    {
     "data": {
      "application/vnd.jupyter.widget-view+json": {
       "model_id": "0b514396b60947238f07166bc2552d85",
       "version_major": 2,
       "version_minor": 0
      },
      "text/plain": [
       "EffluentTracker(children=(VBox(children=(DatePicker(value=Timestamp('2020-09-17 00:00:00'), description='Pick …"
      ]
     },
     "metadata": {},
     "output_type": "display_data"
    }
   ],
   "source": [
    "def make_box_layout():\n",
    "     return widgets.Layout(\n",
    "        border='solid 1px black',\n",
    "        margin='0px 10px 10px 0px',\n",
    "        padding='5px 5px 5px 5px'\n",
    "     )\n",
    "    \n",
    "paddocks = ['A1', 'A2', 'A3', 'A4', 'A5']\n",
    " \n",
    "class EffluentTracker(widgets.HBox):\n",
    "     \n",
    "    def __init__(self):\n",
    "        super().__init__()\n",
    "        output = widgets.Output()\n",
    " \n",
    "        self.end_date = datetime.today()\n",
    "        self.start_date = self.end_date - dateutil.relativedelta.relativedelta(years=1)\n",
    "        query=f'Select * FROM EffluentLogs WHERE Date BETWEEN \"{self.start_date}\" AND \"{self.end_date}\"'\n",
    "        self.EffluentLog = db.queryTableDF(query)  \n",
    "         \n",
    "        with output:\n",
    "            plt.close('all')\n",
    "            self.fig, self.ax = plt.subplots(constrained_layout=True, figsize=(5, 3.5))\n",
    "        self.bar = self.ax.bar(paddocks, self.EffluentLog[paddocks].sum().tolist())\n",
    "         \n",
    "        self.fig.canvas.toolbar_position = 'bottom'\n",
    "        self.ax.grid(False)\n",
    " \n",
    "        # define widgets\n",
    "        date_start = widgets.DatePicker(\n",
    "            value=pd.to_datetime(self.start_date.strftime(\"%Y-%m-%d\")),\n",
    "            description='Pick a Start Date'\n",
    "        )\n",
    "        date_end = widgets.DatePicker(\n",
    "            value=pd.to_datetime(self.end_date.strftime(\"%Y-%m-%d\")), \n",
    "            description='Pick an End Date'\n",
    "        )\n",
    " \n",
    "        controls = widgets.VBox([\n",
    "            date_start, \n",
    "            date_end\n",
    "        ])\n",
    "        controls.layout = make_box_layout()\n",
    "         \n",
    "        out_box = widgets.Box([output])\n",
    "        output.layout = make_box_layout()\n",
    " \n",
    "        # observe stuff\n",
    "        date_start.observe(self.update_start_date, 'value')\n",
    "        date_end.observe(self.update_end_date, 'value')   \n",
    " \n",
    "        # add to children\n",
    "        self.children = [controls, output]\n",
    "        \n",
    "    def query_database(self, change):\n",
    "        query=f'Select * FROM EffluentLogs WHERE Date BETWEEN \"{self.start_date}\" AND \"{self.end_date}\"'\n",
    "        #print(query)\n",
    "        self.EffluentLog = db.queryTableDF(query)  \n",
    "        \n",
    "    def update_graph(self, change):\n",
    "        sums = self.EffluentLog[paddocks].sum().tolist()\n",
    "        for bar,height in zip(self.bar, sums):\n",
    "            bar.set_height(height)\n",
    "        self.fig.canvas.draw()\n",
    "        \n",
    "    def update_start_date(self, change):\n",
    "        \"\"\"Draw line in plot\"\"\"\n",
    "        self.start_date = change.new\n",
    "        self.query_database(self)\n",
    "        self.update_graph(self)\n",
    "        \n",
    "    def update_end_date(self, change):\n",
    "        \"\"\"Draw line in plot\"\"\"\n",
    "        self.end_date = change.new\n",
    "        self.query_database(self)\n",
    "        self.update_graph(self)\n",
    " \n",
    "    #def line_color(self, change):\n",
    "    #    self.line.set_color(change.new)\n",
    " \n",
    "    #def update_xlabel(self, change):\n",
    "    #    self.ax.set_xlabel(change.new)\n",
    " \n",
    "    #def update_ylabel(self, change):\n",
    "    #    self.ax.set_ylabel(change.new)\n",
    "    \n",
    "    \n",
    "         \n",
    "EffluentTracker()"
   ]
  },
  {
   "cell_type": "markdown",
   "id": "6f68f91f",
   "metadata": {},
   "source": [
    "# Past Effluent Logs"
   ]
  },
  {
   "cell_type": "code",
   "execution_count": 4,
   "id": "4ace3a27",
   "metadata": {},
   "outputs": [
    {
     "data": {
      "application/vnd.jupyter.widget-view+json": {
       "model_id": "ad2143d8953441fe80ccd64348fd939d",
       "version_major": 2,
       "version_minor": 0
      },
      "text/plain": [
       "Sheet(cells=(Cell(column_end=0, column_start=0, numeric_format=None, row_end=9, row_start=0, squeeze_row=False…"
      ]
     },
     "metadata": {},
     "output_type": "display_data"
    }
   ],
   "source": [
    "# this section alows the logging of effluent records to the database\n",
    "# should check what currently exists in effluent helper in spyder\n",
    "# Ideally I think this should look give a look at the most recent (perhaps 9) entries as well as a \n",
    "# blank row to enter new data\n",
    "# an excel table format might be quite nice.\n",
    "\n",
    "from ipysheet import sheet, cell, row, column, cell_range, from_dataframe\n",
    "\n",
    "end_date = datetime.today()\n",
    "start_date = end_date - dateutil.relativedelta.relativedelta(years=1)\n",
    "query=f'Select * FROM EffluentLogs WHERE Date BETWEEN \"{start_date}\" AND \"{end_date}\"'\n",
    "EffluentLog = db.queryTableDF(query) \n",
    "EffluentLog.index = np.arange(1,len(EffluentLog)+1)\n",
    "sheet1 = from_dataframe(EffluentLog.head(10))\n",
    "\n",
    "for k,c in enumerate(sheet1.cells):\n",
    "    c.style['textAlign']='center'\n",
    "    c.send_state()\n",
    "\n",
    "sheet1"
   ]
  },
  {
   "cell_type": "markdown",
   "id": "8c45c61a",
   "metadata": {},
   "source": [
    "# New Effluent Log"
   ]
  },
  {
   "cell_type": "code",
   "execution_count": 6,
   "id": "4d0098ea",
   "metadata": {},
   "outputs": [
    {
     "data": {
      "application/vnd.jupyter.widget-view+json": {
       "model_id": "ad78ade4aeb1413c98efa2c79c47be24",
       "version_major": 2,
       "version_minor": 0
      },
      "text/plain": [
       "VBox(children=(Sheet(column_headers=['Date', 'A1', 'A2', 'A3', 'A4', 'A5'], columns=6, layout=Layout(height='a…"
      ]
     },
     "metadata": {},
     "output_type": "display_data"
    }
   ],
   "source": [
    "new_log_sheet = sheet(rows=5,columns=6, column_headers=['Date', 'A1', 'A2', 'A3', 'A4', 'A5'],\n",
    "                     column_resizing=True)\n",
    "\n",
    "new_log_sheet\n",
    "\n",
    "button_add = widgets.Button()\n",
    "widgets.VBox((new_log_sheet, button_add))"
   ]
  },
  {
   "cell_type": "code",
   "execution_count": 7,
   "id": "cd9c3d4d",
   "metadata": {},
   "outputs": [
    {
     "data": {
      "text/html": [
       "<script>\n",
       "code_show=true; \n",
       "function code_toggle() {\n",
       " if (code_show){\n",
       " $('div.input').hide();\n",
       " } else {\n",
       " $('div.input').show();\n",
       " }\n",
       " code_show = !code_show\n",
       "} \n",
       "$( document ).ready(code_toggle);\n",
       "</script>\n",
       "<form action=\"javascript:code_toggle()\"><input type=\"submit\" value=\"Toggle Code\"></form>"
      ],
      "text/plain": [
       "<IPython.core.display.HTML object>"
      ]
     },
     "execution_count": 7,
     "metadata": {},
     "output_type": "execute_result"
    }
   ],
   "source": [
    "from IPython.display import HTML\n",
    "HTML('''<script>\n",
    "code_show=true; \n",
    "function code_toggle() {\n",
    " if (code_show){\n",
    " $('div.input').hide();\n",
    " } else {\n",
    " $('div.input').show();\n",
    " }\n",
    " code_show = !code_show\n",
    "} \n",
    "$( document ).ready(code_toggle);\n",
    "</script>\n",
    "<form action=\"javascript:code_toggle()\"><input type=\"submit\" value=\"Toggle Code\"></form>''')"
   ]
  },
  {
   "cell_type": "code",
   "execution_count": null,
   "id": "f92ae1c8",
   "metadata": {},
   "outputs": [],
   "source": []
  },
  {
   "cell_type": "code",
   "execution_count": null,
   "id": "2c8d17c0",
   "metadata": {},
   "outputs": [],
   "source": []
  },
  {
   "cell_type": "code",
   "execution_count": null,
   "id": "7ba3668a",
   "metadata": {},
   "outputs": [],
   "source": []
  },
  {
   "cell_type": "code",
   "execution_count": null,
   "id": "44289c9e",
   "metadata": {},
   "outputs": [],
   "source": []
  }
 ],
 "metadata": {
  "kernelspec": {
   "display_name": "Python 3",
   "language": "python",
   "name": "python3"
  },
  "language_info": {
   "codemirror_mode": {
    "name": "ipython",
    "version": 3
   },
   "file_extension": ".py",
   "mimetype": "text/x-python",
   "name": "python",
   "nbconvert_exporter": "python",
   "pygments_lexer": "ipython3",
   "version": "3.7.10"
  }
 },
 "nbformat": 4,
 "nbformat_minor": 5
}
