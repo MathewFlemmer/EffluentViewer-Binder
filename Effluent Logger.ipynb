{
 "cells": [
  {
   "cell_type": "markdown",
   "id": "26946abe",
   "metadata": {},
   "source": [
    "# Effluent Logger App"
   ]
  },
  {
   "cell_type": "code",
   "execution_count": 7,
   "id": "20e9aab6",
   "metadata": {},
   "outputs": [],
   "source": [
    "# we want to display the amount of effluent in each paddock\n",
    "# we need to provide a start and end date\n",
    "# we then need to query each of those dates for their amount of effluent and which paddocks\n",
    "# we then need to sum those values\n",
    "# we then display the numbers\n",
    "\n",
    "# imports\n",
    "%matplotlib widget\n",
    "import sqlite3\n",
    "import pandas as pd\n",
    "import plotly\n",
    "import ipywidgets as widgets\n",
    "import numpy as np\n",
    "import cufflinks as cf\n",
    "import dateutil.relativedelta\n",
    "import matplotlib.pyplot as plt\n",
    "\n",
    "from datetime import datetime,timedelta\n",
    "\n",
    "from ipysheet import sheet, cell, row, column, cell_range, from_dataframe, to_dataframe, to_array\n",
    "from IPython.display import clear_output\n",
    "\n",
    "# Global Variables\n",
    "# we have two databases, one for the raw inputs and one for the parsed data.\n",
    "# EffluentInputLogs - raw inputs\n",
    "# Fields\n",
    "    # Date -  text, required - date spreading was logged\n",
    "    # Start - text, required - start placement of pivot\n",
    "    # Stop  - text, required - end placement of pivot\n",
    "    # Speed - numeric, optional - operational speed of pivot as a percentage of max speed\n",
    "    # Storage - text, optional  - unsure what this is about\n",
    "    # Notes - text, optional - place to store notes from log\n",
    "input_fields = ['Date', 'Start', 'Stop', 'Speed', 'Storage', 'Notes']\n",
    "\n",
    "# EffluentLogs - parsed data log for result of effluent spreading on paddocks\n",
    "# Fields\n",
    "    # Date - text, required, foreign key - date spreading was logged\n",
    "    # 2b, 2c, 3a, 3b, 4a, 4b, 5a, 5b, 6a, 6b, 7aL, 7aR, 7b - integer, requied - amount of effluent added to each paddock.\n",
    "paddocks = ['2b', '2c', '3a', '3b', '4a', '4b', '5a', '5b', '6a', '6b', '7aL', '7aR', '7b']\n",
    "\n"
   ]
  },
  {
   "cell_type": "markdown",
   "id": "a8533162",
   "metadata": {},
   "source": [
    "## Database stuff"
   ]
  },
  {
   "cell_type": "code",
   "execution_count": 8,
   "id": "096162b8",
   "metadata": {},
   "outputs": [
    {
     "name": "stdout",
     "output_type": "stream",
     "text": [
      "Database Connected\n"
     ]
    },
    {
     "data": {
      "application/vnd.jupyter.widget-view+json": {
       "model_id": "ee5dd20a875649519d7695862992cd5c",
       "version_major": 2,
       "version_minor": 0
      },
      "text/plain": [
       "HTML(value='<p style=\"color:green\"><b>Connected to D:\\\\Current Projects\\\\Farm\\\\Effluent Tracker\\\\Effluent Data…"
      ]
     },
     "metadata": {},
     "output_type": "display_data"
    }
   ],
   "source": [
    "### Database class. Allows for simple connecting and disconnecting to a database ###\n",
    "class Database():\n",
    "    def __init__(self, database_path):\n",
    "        self.path = database_path\n",
    "        self.conn = None\n",
    "        self.c = None\n",
    "        self.connect()\n",
    "        print('Database Connected')\n",
    "        \n",
    "    def updatePath(self, path):\n",
    "        self.path = path\n",
    "    \n",
    "    def connect(self):\n",
    "        self.conn = sqlite3.connect(self.path)\n",
    "        self.c = self.conn.cursor()\n",
    "        \n",
    "    def commit(self):\n",
    "        \"\"\"commit changes to database\"\"\"\n",
    "        self.conn.commit()\n",
    "    \n",
    "    def disconnect(self):\n",
    "        self.c.close()\n",
    "        self.conn.close()\n",
    "        print('Connection Closed')\n",
    "    \n",
    "    def query(self, query):\n",
    "        return self.c.execute(query)\n",
    "    \n",
    "    def queryTableDF(self, query):\n",
    "        # Query a table in a database and return in a DataFrame format\n",
    "        return pd.read_sql_query(query, self.conn)\n",
    "        \n",
    "    def queryValue(self, query, row=0, column=0):\n",
    "        # Return a specific value from a row/column in a queried dataframe table.\n",
    "        result_df = self.queryTableDF(query)\n",
    "        return result_df.iat[row,column]\n",
    "\n",
    "### Setup the database ###\n",
    "#default_database_location = 'C:\\Predictive Maintenance\\Maintenance.db'\n",
    "default_database_location = 'D:\\Current Projects\\Farm\\Effluent Tracker\\Effluent Database.db'\n",
    "db = Database(default_database_location)\n",
    "\n",
    "### Attempt a query from the database. If there is an error indicate to user that database is disconnected ###\n",
    "\n",
    "connected_html = widgets.HTML('<p style=\"color:green\"><b>Connected to %s</b></p>' % default_database_location)\n",
    "disconnected_html = widgets.HTML('<p style=\"color:red\"><b> Database not connected! Check database name/location: %s</b></p>' % default_database_location)\n",
    "\n",
    "query = 'SELECT * FROM EffluentLogs'\n",
    "try:\n",
    "    result = db.query(query)\n",
    "    connected = True\n",
    "except:\n",
    "    connected = False\n",
    "    \n",
    "if connected:\n",
    "    display(connected_html)\n",
    "else:\n",
    "    display(disconnected_html)"
   ]
  },
  {
   "cell_type": "markdown",
   "id": "ef1a8fd1",
   "metadata": {},
   "source": [
    "# Effluent Graph"
   ]
  },
  {
   "cell_type": "code",
   "execution_count": 9,
   "id": "a2171c41",
   "metadata": {},
   "outputs": [
    {
     "data": {
      "application/vnd.jupyter.widget-view+json": {
       "model_id": "28d1574e1d6943f48573f2c8854f63c2",
       "version_major": 2,
       "version_minor": 0
      },
      "text/plain": [
       "EffluentTracker(children=(HBox(children=(DatePicker(value=Timestamp('2021-01-03 00:00:00'), description='Start…"
      ]
     },
     "metadata": {},
     "output_type": "display_data"
    }
   ],
   "source": [
    "def make_box_layout():\n",
    "     return widgets.Layout(\n",
    "        border='solid 1px black',\n",
    "        margin='0px 10px 10px 0px',\n",
    "        padding='5px 5px 5px 5px',\n",
    "        width='95%'\n",
    "     )\n",
    "    \n",
    "\n",
    "class EffluentTracker(widgets.VBox):\n",
    "     \n",
    "    def __init__(self):\n",
    "        super().__init__()\n",
    "        output = widgets.Output()\n",
    " \n",
    "        self.end_date = datetime.today()\n",
    "        self.start_date = self.end_date - dateutil.relativedelta.relativedelta(years=1)\n",
    "        query=f'Select * FROM EffluentLogs WHERE Date BETWEEN \"{self.start_date}\" AND \"{self.end_date}\"'\n",
    "        self.EffluentLog = db.queryTableDF(query)  \n",
    "        \n",
    "        # graph setup\n",
    "        with output:\n",
    "            plt.close('all')\n",
    "            self.fig, self.ax = plt.subplots(constrained_layout=True, figsize=(9, 6))\n",
    "            \n",
    "            self.bar = self.ax.bar(paddocks, self.EffluentLog[paddocks].sum().tolist())\n",
    "        \n",
    "            self.fig.suptitle('Effluent Per Paddock', fontsize=16)\n",
    "            self.fig.set_label(\" \")\n",
    "            self.fig.canvas.toolbar_position = 'bottom'\n",
    "            self.ax.grid(False)\n",
    " \n",
    "        # define widgets\n",
    "        date_start = widgets.DatePicker(\n",
    "            value=pd.to_datetime(self.start_date.strftime(\"%Y-%m-%d\")),\n",
    "            description='Start'\n",
    "        )\n",
    "        date_end = widgets.DatePicker(\n",
    "            value=pd.to_datetime(self.end_date.strftime(\"%Y-%m-%d\")), \n",
    "            description='End'\n",
    "        )\n",
    " \n",
    "        controls = widgets.HBox([\n",
    "            date_start, \n",
    "            date_end\n",
    "        ], \n",
    "            layout = widgets.Layout(width='auto',\n",
    "                                    align_items='stretch')\n",
    "        )\n",
    "        controls.layout = make_box_layout()\n",
    "         \n",
    "        out_box = widgets.Box([output])\n",
    "        output.layout = make_box_layout()\n",
    " \n",
    "        # observe stuff\n",
    "        date_start.observe(self.update_start_date, 'value')\n",
    "        date_end.observe(self.update_end_date, 'value')   \n",
    " \n",
    "        # add to children\n",
    "        self.children = [controls, output]\n",
    "        #self.children = widgets.VBox(self.children)\n",
    "        \n",
    "    def query_database(self, change):\n",
    "        query=f'Select * FROM EffluentLogs WHERE Date BETWEEN \"{self.start_date}\" AND \"{self.end_date}\"'\n",
    "        #print(query)\n",
    "        self.EffluentLog = db.queryTableDF(query)  \n",
    "        \n",
    "    def update_graph(self, change):\n",
    "        sums = self.EffluentLog[paddocks].sum().tolist()\n",
    "        for bar,height in zip(self.bar, sums):\n",
    "            bar.set_height(height)\n",
    "        self.fig.canvas.draw()\n",
    "        \n",
    "    def update_start_date(self, change):\n",
    "        \"\"\"Draw line in plot\"\"\"\n",
    "        self.start_date = change.new\n",
    "        self.query_database(self)\n",
    "        self.update_graph(self)\n",
    "        \n",
    "    def update_end_date(self, change):\n",
    "        \"\"\"Draw line in plot\"\"\"\n",
    "        self.end_date = change.new\n",
    "        self.query_database(self)\n",
    "        self.update_graph(self)\n",
    "         \n",
    "EffluentTracker()"
   ]
  },
  {
   "cell_type": "markdown",
   "id": "6f68f91f",
   "metadata": {},
   "source": [
    "# Past Effluent Logs"
   ]
  },
  {
   "cell_type": "code",
   "execution_count": 10,
   "id": "4ace3a27",
   "metadata": {},
   "outputs": [
    {
     "data": {
      "application/vnd.jupyter.widget-view+json": {
       "model_id": "112fe0edcaa148b784b0d4166f428750",
       "version_major": 2,
       "version_minor": 0
      },
      "text/plain": [
       "VBox(children=(Output(), Output()))"
      ]
     },
     "metadata": {},
     "output_type": "display_data"
    },
    {
     "data": {
      "application/vnd.jupyter.widget-view+json": {
       "model_id": "03c5ff77dfb249099438d02aa19125c2",
       "version_major": 2,
       "version_minor": 0
      },
      "text/plain": [
       "Button(description='Refresh Data', style=ButtonStyle())"
      ]
     },
     "metadata": {},
     "output_type": "display_data"
    }
   ],
   "source": [
    "# this section alows the logging of effluent records to the database\n",
    "# should check what currently exists in effluent helper in spyder\n",
    "# Ideally I think this should look give a look at the most recent (perhaps 9) entries as well as a \n",
    "# blank row to enter new data\n",
    "# an excel table format might be quite nice.\n",
    "\n",
    "\n",
    "def query_table_data():\n",
    "    ### return the dataframes of interest\n",
    "    end_date = datetime.today()\n",
    "    start_date = end_date - dateutil.relativedelta.relativedelta(years=1)\n",
    "    query=f'Select * FROM EffluentLogs WHERE Date BETWEEN \"{start_date}\" AND \"{end_date}\"'\n",
    "    EffluentLogs = db.queryTableDF(query)\n",
    "    EffluentLogs.index = np.arange(1,len(EffluentLogs)+1)\n",
    "    EffluentLogs['Date'] = pd.to_datetime(EffluentLogs.Date)\n",
    "    EffluentLogs.sort_values(by=['Date'], inplace=True, ascending=False)\n",
    "    EffluentLogs['Date'] = EffluentLogs['Date'].dt.strftime('%d/%m/%Y')\n",
    "    \n",
    "    query=f'Select * FROM EffluentInputLogs WHERE Date BETWEEN \"{start_date}\" AND \"{end_date}\"'\n",
    "    EffluentInputLogs = db.queryTableDF(query) \n",
    "    EffluentInputLogs.index = np.arange(1,len(EffluentInputLogs)+1)\n",
    "    EffluentInputLogs['Date'] = pd.to_datetime(EffluentInputLogs.Date)\n",
    "    EffluentInputLogs.sort_values(by=['Date'], inplace=True, ascending=False)\n",
    "    EffluentInputLogs['Date'] = EffluentInputLogs['Date'].dt.strftime('%d/%m/%Y')\n",
    "    \n",
    "    return EffluentLogs, EffluentInputLogs\n",
    "\n",
    "def display_table_data(EffluentLog, EffluentInputLogs):\n",
    "    ### write the data into a ipysheet sheet and format\n",
    "    sheet1 = from_dataframe(EffluentLog.head(8))\n",
    "    sheet2 = from_dataframe(EffluentInputLogs.head(8))\n",
    "    for k,c in enumerate(sheet1.cells):\n",
    "        c.style['textAlign']='center'\n",
    "        c.send_state()\n",
    "    \n",
    "    return sheet1, sheet2\n",
    "\n",
    "def update_sheets():\n",
    "    ### function to update the output of the sheets\n",
    "    clear_output()\n",
    "    \n",
    "    EffluentLogs, EffluentInputLogs = query_table_data()\n",
    "    sheet1, sheet2 = display_table_data(EffluentLogs, EffluentInputLogs)\n",
    "    sheet1, out1 = (sheet1, widgets.Output())\n",
    "    sheet2, out2 = (sheet2, widgets.Output())\n",
    "    \n",
    "    with out1:\n",
    "        display(sheet1)\n",
    "\n",
    "    with out2:\n",
    "        display(sheet2)\n",
    "\n",
    "    button_refresh = widgets.Button(description='Refresh Data')\n",
    "    button_refresh.on_click(on_button_click)\n",
    "\n",
    "    out_sheets = widgets.VBox([out1, out2])\n",
    "    display(out_sheets, button_refresh)\n",
    "    \n",
    "def on_button_click(b):\n",
    "    update_sheets()\n",
    "\n",
    "\n",
    "update_sheets()"
   ]
  },
  {
   "cell_type": "markdown",
   "id": "8c45c61a",
   "metadata": {},
   "source": [
    "# New Effluent Log"
   ]
  },
  {
   "cell_type": "code",
   "execution_count": null,
   "id": "a7f3df8b",
   "metadata": {},
   "outputs": [],
   "source": []
  },
  {
   "cell_type": "code",
   "execution_count": 12,
   "id": "f4ec3602",
   "metadata": {},
   "outputs": [
    {
     "data": {
      "application/vnd.jupyter.widget-view+json": {
       "model_id": "b09884f43d0c4f60a23e1ec7d9b7e4b7",
       "version_major": 2,
       "version_minor": 0
      },
      "text/plain": [
       "VBox(children=(Sheet(cells=(Cell(column_end=0, column_start=0, row_end=4, row_start=0, squeeze_row=False, type…"
      ]
     },
     "metadata": {},
     "output_type": "display_data"
    }
   ],
   "source": [
    "def get_irr_vals(start, stop, guns):\n",
    "    zeros = [int(x) for x in np.zeros(len(paddocks))]\n",
    "    zeros[3] = 1\n",
    "    zeros[4] = 1\n",
    "    zeros[5] = 1\n",
    "    return zeros\n",
    "\n",
    "def parse_entry(date, guns, start, stop, speed, storage, notes):\n",
    "    invalidFlag = False\n",
    "    # convert fields to appropriate formats\n",
    "    \n",
    "    # date, should jsut be a datetime going to text\n",
    "    dateStr = date.strftime('%Y-%m-%d')\n",
    "    \n",
    "    # guns go into first database as string, but also need to become list of numbers\n",
    "    gunsStr = guns.strip()\n",
    "    gunsList = guns.split(\",\")\n",
    "    gunsList = [int(i) for i in gunsList]\n",
    "    for g in gunsList:\n",
    "        if g < 1 or g > 9:\n",
    "            print(\"Guns should be entered in the format of Number,Number i.e. 1,2 for guns 1 \\\n",
    "                    and 2. Guns are numbered from 1 to 9.\")\n",
    "            invalidFlag = True\n",
    "            \n",
    "    # start and stop should be a string in the paddock list, solved with the combobox widget\n",
    "    # don't need to do anything for storage and notes\n",
    "    # add to input log database\n",
    "    query = f'INSERT INTO EffluentInputLogs (Date, Guns, Start, Stop, Speed, Storage, Notes) \\\n",
    "            VALUES {dateStr, gunsStr, start, stop, speed, storage, notes}'\n",
    "    \n",
    "    #print(query)\n",
    "    db.query(query)\n",
    "    db.commit()\n",
    "    \n",
    "    # parse into Effluent Log database\n",
    "    # Need tofigure out how to update these meaningfully\n",
    "    # for now just enter arbitrary data\n",
    "    paddocks_str = \", \".join( repr(e) for e in paddocks ) \n",
    "    vals = get_irr_vals(start, stop, guns)\n",
    "    valStr = \", \".join(str(int(x)) for x in vals)\n",
    "    query = f'INSERT INTO EffluentLogs (Date, {paddocks_str}) \\\n",
    "            VALUES (\"{dateStr}\", {valStr})'\n",
    "    #print(query)\n",
    "    db.query(query)\n",
    "    db.commit()\n",
    "    \n",
    "def add_entries_press(b):\n",
    "    new_entries_arr = to_array(new_log_sheet)\n",
    "    new_entries_arr[:,0] = [vals.value for vals in new_entries_arr[:,0]]\n",
    "    new_entries_arr[:,2] = [vals.value for vals in new_entries_arr[:,2]]\n",
    "    new_entries_arr[:,3] = [vals.value for vals in new_entries_arr[:,3]]\n",
    "    \n",
    "    for row in new_entries_arr:\n",
    "        date, guns, start, stop, speed, storage, notes = row\n",
    "        if (date is not None and guns is not \"\" and start is not \"\" and stop is not \"\"):\n",
    "            parse_entry(date, guns, start, stop, speed, storage,  notes)\n",
    "\n",
    "def setup_sheet():\n",
    "    new_log_sheet = sheet(rows=5,columns=7, column_headers=['Date', 'Guns', 'Start', 'Stop', 'Speed','Storage',  'Notes'],\n",
    "                         column_resizing=False, column_width = [5, 3, 3, 3, 3, 3, 9])\n",
    "\n",
    "    for k,c in enumerate(new_log_sheet.cells):\n",
    "        c.style['textAlign']='center'\n",
    "        c.send_state()\n",
    "        \n",
    "    column(0, [widgets.DatePicker(layout=widgets.Layout(width='96%')) for _ in range(5)])\n",
    "    column(1, [\"\" for _ in range(5)])\n",
    "    column(2, [widgets.Combobox(options=paddocks, layout=widgets.Layout(width='96%')) for _ in range(5)]) \n",
    "    column(3, [widgets.Combobox(options=paddocks, layout=widgets.Layout(width='96%')) for _ in range(5)]) \n",
    "    column(4, [\"\" for _ in range(5)])\n",
    "    column(5, [\"\" for _ in range(5)])\n",
    "    column(6, [\"\" for _ in range(5)])\n",
    "    cell(0, 1, \"3, 4\")\n",
    "    return new_log_sheet\n",
    "\n",
    "def clear_sheet(b):\n",
    "    column(0, [widgets.DatePicker(layout=widgets.Layout(width='96%')) for _ in range(5)])\n",
    "    column(1, [\"\" for _ in range(5)])\n",
    "    column(2, [widgets.Combobox(options=paddocks, layout=widgets.Layout(width='96%')) for _ in range(5)]) \n",
    "    column(3, [widgets.Combobox(options=paddocks, layout=widgets.Layout(width='96%')) for _ in range(5)]) \n",
    "    column(4, [\"\" for _ in range(5)])\n",
    "    column(5, [\"\" for _ in range(5)])\n",
    "    column(6, [\"\" for _ in range(5)])\n",
    "    \n",
    "\n",
    "    \n",
    "new_log_sheet = setup_sheet()\n",
    "new_log_sheet\n",
    "\n",
    "button_add = widgets.Button(description='Add Entries')\n",
    "button_clear = widgets.Button(description='Clear Table')\n",
    "buttons = widgets.HBox([button_add, button_clear])\n",
    "\n",
    "button_add.on_click(add_entries_press)\n",
    "button_clear.on_click(clear_sheet)\n",
    "widgets.VBox((new_log_sheet, buttons))"
   ]
  },
  {
   "cell_type": "code",
   "execution_count": 13,
   "id": "cd9c3d4d",
   "metadata": {},
   "outputs": [
    {
     "data": {
      "text/html": [
       "<script>\n",
       "code_show=true; \n",
       "function code_toggle() {\n",
       " if (code_show){\n",
       " $('div.input').hide();\n",
       " } else {\n",
       " $('div.input').show();\n",
       " }\n",
       " code_show = !code_show\n",
       "} \n",
       "$( document ).ready(code_toggle);\n",
       "</script>\n",
       "<form action=\"javascript:code_toggle()\"><input type=\"submit\" value=\"Toggle Code\"></form>"
      ],
      "text/plain": [
       "<IPython.core.display.HTML object>"
      ]
     },
     "execution_count": 13,
     "metadata": {},
     "output_type": "execute_result"
    }
   ],
   "source": [
    "from IPython.display import HTML\n",
    "HTML('''<script>\n",
    "code_show=true; \n",
    "function code_toggle() {\n",
    " if (code_show){\n",
    " $('div.input').hide();\n",
    " } else {\n",
    " $('div.input').show();\n",
    " }\n",
    " code_show = !code_show\n",
    "} \n",
    "$( document ).ready(code_toggle);\n",
    "</script>\n",
    "<form action=\"javascript:code_toggle()\"><input type=\"submit\" value=\"Toggle Code\"></form>''')"
   ]
  },
  {
   "cell_type": "code",
   "execution_count": 7,
   "id": "f92ae1c8",
   "metadata": {},
   "outputs": [
    {
     "name": "stdout",
     "output_type": "stream",
     "text": [
      "Connection Closed\n"
     ]
    }
   ],
   "source": [
    "db.disconnect()"
   ]
  },
  {
   "cell_type": "code",
   "execution_count": 8,
   "id": "03aebd0e",
   "metadata": {},
   "outputs": [
    {
     "name": "stdout",
     "output_type": "stream",
     "text": [
      "Database Connected\n"
     ]
    }
   ],
   "source": [
    "default_database_location = 'D:\\Current Projects\\Farm\\Effluent Tracker\\Effluent Database.db'\n",
    "db = Database(default_database_location)"
   ]
  },
  {
   "cell_type": "markdown",
   "id": "f67a7a03",
   "metadata": {},
   "source": [
    "# Todo\n",
    "1. Sort out requriements.txt so that this can run on another device.\n",
    "3. Figure out cloud hosting for database\n",
    "4. Input logs\n",
    "5. Fix graphing so that it rescales if necessary\n",
    "6. Auto refresh of all widgets?\n",
    "7. Tes flow of change, commit and rehost."
   ]
  },
  {
   "cell_type": "code",
   "execution_count": null,
   "id": "b1f7292c",
   "metadata": {},
   "outputs": [],
   "source": [
    "import ipywidgets as widgets\n",
    "from IPython.display import clear_output\n",
    "outs = widgets.Output()\n",
    "\n",
    "def mytest(x):\n",
    "    with outs:\n",
    "        clear_output()\n",
    "        lookhere = mytestfilter.value\n",
    "        if lookhere==1:\n",
    "            print(\"hello\")\n",
    "        if lookhere==0:\n",
    "            print(\"goodbye\")\n",
    "\n",
    "mytestfilter = widgets.Dropdown(options={'night': 0, 'morning': 1}, description=\"FILTER\")\n",
    "display(mytestfilter)\n",
    "display(outs)\n",
    "mytestfilter.observe(mytest, names='value')"
   ]
  },
  {
   "cell_type": "code",
   "execution_count": 26,
   "id": "f32e9d80",
   "metadata": {},
   "outputs": [
    {
     "name": "stdout",
     "output_type": "stream",
     "text": [
      "[0, 0, 0, 0, 1, 1, 1, 0, 0, 0, 0, 0, 0]\n"
     ]
    }
   ],
   "source": [
    "list = [int(x) for x in np.zeros(len(paddocks))]\n",
    "list[4] = 1\n",
    "list[5] = 1\n",
    "list[6] = 1\n",
    "print(list)\n"
   ]
  },
  {
   "cell_type": "code",
   "execution_count": 19,
   "id": "53ed3b1b",
   "metadata": {},
   "outputs": [
    {
     "data": {
      "text/plain": [
       "3"
      ]
     },
     "execution_count": 19,
     "metadata": {},
     "output_type": "execute_result"
    }
   ],
   "source": [
    "int(3.5)"
   ]
  },
  {
   "cell_type": "code",
   "execution_count": null,
   "id": "50d88374",
   "metadata": {},
   "outputs": [],
   "source": []
  }
 ],
 "metadata": {
  "kernelspec": {
   "display_name": "Python 3",
   "language": "python",
   "name": "python3"
  },
  "language_info": {
   "codemirror_mode": {
    "name": "ipython",
    "version": 3
   },
   "file_extension": ".py",
   "mimetype": "text/x-python",
   "name": "python",
   "nbconvert_exporter": "python",
   "pygments_lexer": "ipython3",
   "version": "3.7.10"
  }
 },
 "nbformat": 4,
 "nbformat_minor": 5
}
